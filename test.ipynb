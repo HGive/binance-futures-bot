{
 "cells": [
  {
   "cell_type": "code",
   "execution_count": 4,
   "id": "28f0d266",
   "metadata": {},
   "outputs": [
    {
     "name": "stdout",
     "output_type": "stream",
     "text": [
      "d\n",
      "*\n",
      "d\n",
      "v\n",
      "v\n",
      "*\n",
      "e\n"
     ]
    }
   ],
   "source": [
    "from pprint import pprint\n",
    "dp = [[False] * (4+1) for _ in range(5+1)]\n",
    "# pprint(dp)\n",
    "p = 'd*dvv*e'\n",
    "for j in range(1,7+1):\n",
    "    print(p[j-1])"
   ]
  },
  {
   "cell_type": "code",
   "execution_count": 5,
   "id": "80842eb7",
   "metadata": {},
   "outputs": [
    {
     "name": "stdout",
     "output_type": "stream",
     "text": [
      "32\n"
     ]
    }
   ],
   "source": [
    "from math import floor, ceil\n",
    "buy_unit = 2 * ceil(1559 / 100)\n",
    "print(buy_unit)"
   ]
  }
 ],
 "metadata": {
  "kernelspec": {
   "display_name": ".venv",
   "language": "python",
   "name": "python3"
  },
  "language_info": {
   "codemirror_mode": {
    "name": "ipython",
    "version": 3
   },
   "file_extension": ".py",
   "mimetype": "text/x-python",
   "name": "python",
   "nbconvert_exporter": "python",
   "pygments_lexer": "ipython3",
   "version": "3.11.0"
  }
 },
 "nbformat": 4,
 "nbformat_minor": 5
}
