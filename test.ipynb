{
 "cells": [
  {
   "cell_type": "code",
   "execution_count": null,
   "id": "28f0d266",
   "metadata": {},
   "outputs": [],
   "source": [
    "from pprint import pprint\n",
    "dp = [[False] * (4+1) for _ in range(5+1)]\n",
    "# pprint(dp)\n",
    "p = 'd*dvv*e'\n",
    "for j in range(1,7+1):\n",
    "    print(p[j-1])"
   ]
  },
  {
   "cell_type": "code",
   "execution_count": null,
   "id": "80842eb7",
   "metadata": {},
   "outputs": [],
   "source": [
    "import random\n",
    "import time\n",
    "while True:\n",
    "    print(round(random.random(),2))\n",
    "    time.sleep(1)"
   ]
  },
  {
   "cell_type": "code",
   "execution_count": null,
   "id": "d7e8b1fa",
   "metadata": {},
   "outputs": [],
   "source": [
    "from config import exchange\n",
    "import nest_asyncio\n",
    "from pprint import pprint\n",
    "nest_asyncio.apply()\n",
    "\n",
    "SYMBOLS = [\"CHR/USDT:USDT\",\n",
    "    \"AR/USDT:USDT\",]\n",
    "INTERVAL = 3\n",
    "\n",
    "async def main():\n",
    "    await exchange.load_markets()\n",
    "    balance = await exchange.fetch_balance()\n",
    "\n",
    "\n",
    "if __name__ == \"__main__\":\n",
    "    await main()\n"
   ]
  },
  {
   "cell_type": "code",
   "execution_count": 3,
   "id": "35d7bde2",
   "metadata": {},
   "outputs": [
    {
     "name": "stdout",
     "output_type": "stream",
     "text": [
      "[{'amount': 149.0,\n",
      "  'average': None,\n",
      "  'clientOrderId': 'x-cvBPrNm93f89b221421163c75548c5',\n",
      "  'cost': 0.0,\n",
      "  'datetime': '2025-07-23T14:16:33.961Z',\n",
      "  'fee': None,\n",
      "  'fees': [],\n",
      "  'filled': 0.0,\n",
      "  'id': '5454610382',\n",
      "  'info': {'avgPrice': '0',\n",
      "           'clientOrderId': 'x-cvBPrNm93f89b221421163c75548c5',\n",
      "           'closePosition': False,\n",
      "           'cumQuote': '0.0000',\n",
      "           'executedQty': '0',\n",
      "           'goodTillDate': '0',\n",
      "           'orderId': '5454610382',\n",
      "           'origQty': '149',\n",
      "           'origType': 'TAKE_PROFIT_MARKET',\n",
      "           'positionSide': 'BOTH',\n",
      "           'price': '0',\n",
      "           'priceMatch': 'NONE',\n",
      "           'priceProtect': False,\n",
      "           'reduceOnly': False,\n",
      "           'selfTradePreventionMode': 'EXPIRE_MAKER',\n",
      "           'side': 'SELL',\n",
      "           'status': 'NEW',\n",
      "           'stopPrice': '0.1036',\n",
      "           'symbol': 'CHRUSDT',\n",
      "           'time': '1753280193961',\n",
      "           'timeInForce': 'GTC',\n",
      "           'type': 'TAKE_PROFIT_MARKET',\n",
      "           'updateTime': '1753280193964',\n",
      "           'workingType': 'CONTRACT_PRICE'},\n",
      "  'lastTradeTimestamp': None,\n",
      "  'lastUpdateTimestamp': 1753280193964,\n",
      "  'postOnly': False,\n",
      "  'price': None,\n",
      "  'reduceOnly': False,\n",
      "  'remaining': 149.0,\n",
      "  'side': 'sell',\n",
      "  'status': 'open',\n",
      "  'stopLossPrice': None,\n",
      "  'stopPrice': 0.1036,\n",
      "  'symbol': 'CHR/USDT:USDT',\n",
      "  'takeProfitPrice': None,\n",
      "  'timeInForce': 'GTC',\n",
      "  'timestamp': 1753280193961,\n",
      "  'trades': [],\n",
      "  'triggerPrice': 0.1036,\n",
      "  'type': 'take_profit_market'}]\n"
     ]
    }
   ],
   "source": [
    "from config import exchange\n",
    "import nest_asyncio\n",
    "from pprint import pprint\n",
    "nest_asyncio.apply()\n",
    "\n",
    "SYMBOLS = [\"CHR/USDT:USDT\",\n",
    "    \"AR/USDT:USDT\",]\n",
    "INTERVAL = 3\n",
    "\n",
    "async def main():\n",
    "    await exchange.load_markets()\n",
    "    open_orders = await exchange.fetch_open_orders(\"CHR/USDT:USDT\")\n",
    "    pprint(open_orders)\n",
    "\n",
    "if __name__ == \"__main__\":\n",
    "    await main()\n"
   ]
  },
  {
   "cell_type": "code",
   "execution_count": null,
   "id": "06e37776",
   "metadata": {},
   "outputs": [],
   "source": [
    "\n"
   ]
  }
 ],
 "metadata": {
  "kernelspec": {
   "display_name": ".venv",
   "language": "python",
   "name": "python3"
  },
  "language_info": {
   "codemirror_mode": {
    "name": "ipython",
    "version": 3
   },
   "file_extension": ".py",
   "mimetype": "text/x-python",
   "name": "python",
   "nbconvert_exporter": "python",
   "pygments_lexer": "ipython3",
   "version": "3.11.0"
  }
 },
 "nbformat": 4,
 "nbformat_minor": 5
}
