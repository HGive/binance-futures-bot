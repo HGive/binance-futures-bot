{
 "cells": [
  {
   "cell_type": "code",
   "execution_count": null,
   "id": "28f0d266",
   "metadata": {},
   "outputs": [],
   "source": [
    "from pprint import pprint\n",
    "dp = [[False] * (4+1) for _ in range(5+1)]\n",
    "# pprint(dp)\n",
    "p = 'd*dvv*e'\n",
    "for j in range(1,7+1):\n",
    "    print(p[j-1])"
   ]
  },
  {
   "cell_type": "code",
   "execution_count": null,
   "id": "80842eb7",
   "metadata": {},
   "outputs": [],
   "source": [
    "import random\n",
    "import time\n",
    "while True:\n",
    "    print(round(random.random(),2))\n",
    "    time.sleep(1)"
   ]
  },
  {
   "cell_type": "code",
   "execution_count": null,
   "id": "d7e8b1fa",
   "metadata": {},
   "outputs": [],
   "source": [
    "from config import exchange\n",
    "import nest_asyncio\n",
    "from pprint import pprint\n",
    "nest_asyncio.apply()\n",
    "\n",
    "SYMBOLS = [\"CHR/USDT:USDT\",\n",
    "    \"AR/USDT:USDT\",]\n",
    "INTERVAL = 3\n",
    "\n",
    "async def main():\n",
    "    await exchange.load_markets()\n",
    "    balance = await exchange.fetch_balance()\n",
    "\n",
    "\n",
    "if __name__ == \"__main__\":\n",
    "    await main()\n"
   ]
  },
  {
   "cell_type": "code",
   "execution_count": 15,
   "id": "35d7bde2",
   "metadata": {},
   "outputs": [
    {
     "name": "stdout",
     "output_type": "stream",
     "text": [
      "0.1169\n",
      "'SELL'\n"
     ]
    }
   ],
   "source": [
    "from config import exchange\n",
    "import nest_asyncio\n",
    "import time\n",
    "from pprint import pprint\n",
    "nest_asyncio.apply()\n",
    "current_time = int(time.time() * 1000)  # 현재 시간 (ms)\n",
    "one_hour_ago = current_time - (60 * 60 * 1000)  # 1시간 전\n",
    "one_year_ago = current_time - (365 * 24 * 60 * 60 * 1000)\n",
    "\n",
    "SYMBOLS = [\"CHR/USDT:USDT\",\n",
    "    \"AR/USDT:USDT\",]\n",
    "INTERVAL = 3\n",
    "\n",
    "async def main():\n",
    "    await exchange.load_markets()\n",
    "    # open_orders = await exchange.fetch_open_orders(\"CHR/USDT:USDT\")\n",
    "    # pprint(open_orders)\n",
    "    liquidations = await exchange.fetch_my_liquidations(symbol=SYMBOLS[0], limit=1, since=one_year_ago)\n",
    "    # pprint(liquidations)\n",
    "    liquid_price = liquidations[0]['price']\n",
    "    liquid_side = liquidations[0]['info']['side']\n",
    "    pprint(liquid_price)\n",
    "    pprint(liquid_side)\n",
    "\n",
    "\n",
    "if __name__ == \"__main__\":\n",
    "    await main()\n"
   ]
  },
  {
   "cell_type": "code",
   "execution_count": 13,
   "id": "06e37776",
   "metadata": {},
   "outputs": [
    {
     "name": "stdout",
     "output_type": "stream",
     "text": [
      "1753748388733\n",
      "1753748388732\n"
     ]
    }
   ],
   "source": [
    "# config.py\n",
    "from config import exchange\n",
    "import nest_asyncio\n",
    "import time\n",
    "from pprint import pprint\n",
    "nest_asyncio.apply()\n",
    "from dotenv import load_dotenv\n",
    "import os, ccxt.pro as ccxt, logging\n",
    "from pytz import timezone\n",
    "from datetime import datetime\n",
    "\n",
    "tz = timezone(\"Asia/Seoul\")\n",
    "def timetz(*args): return datetime.now(tz).timetuple()\n",
    "\n",
    "current_time = int(time.time() * 1000)  # 현재 시간 (ms)\n",
    "one_hour_ago = current_time - (60 * 60 * 1000)  # 1시간 전\n",
    "one_year_ago = current_time - (365 * 24 * 60 * 60 * 1000)\n",
    "\n",
    "SYMBOLS = [\"CHR/USDT:USDT\",\n",
    "    \"AR/USDT:USDT\",]\n",
    "INTERVAL = 3\n",
    "\n",
    "async def main():\n",
    "    dt = datetime.now(tz)\n",
    "    dt_ms = int(dt.timestamp() * 1000)\n",
    "    pprint(dt_ms)\n",
    "    pprint(current_time)\n",
    "\n",
    "\n",
    "if __name__ == \"__main__\":\n",
    "    await main()\n"
   ]
  }
 ],
 "metadata": {
  "kernelspec": {
   "display_name": ".venv",
   "language": "python",
   "name": "python3"
  },
  "language_info": {
   "codemirror_mode": {
    "name": "ipython",
    "version": 3
   },
   "file_extension": ".py",
   "mimetype": "text/x-python",
   "name": "python",
   "nbconvert_exporter": "python",
   "pygments_lexer": "ipython3",
   "version": "3.11.0"
  }
 },
 "nbformat": 4,
 "nbformat_minor": 5
}
